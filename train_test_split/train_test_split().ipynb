{
 "cells": [
  {
   "cell_type": "markdown",
   "id": "c9b5f1ef",
   "metadata": {},
   "source": [
    "# How to split our dataset into train and test"
   ]
  },
  {
   "cell_type": "markdown",
   "id": "b71c577a",
   "metadata": {},
   "source": [
    "# sets"
   ]
  },
  {
   "cell_type": "raw",
   "id": "630f79df",
   "metadata": {},
   "source": [
    "In this section, we are going to explore 2 different ways one can use to create training and\n",
    "testing sets.\n",
    "\n",
    "Before jumping into these approaches, let’s create a dummy dataset that will use for\n",
    "demonstration purposes.\n",
    "\n",
    "In the examples below, we will assume that we have a dataset stored in memory as a pandas\n",
    "DataFrame.\n",
    "\n",
    "The iris dataset contains 150 data points, each of which has four features."
   ]
  },
  {
   "cell_type": "code",
   "execution_count": 2,
   "id": "226219aa",
   "metadata": {},
   "outputs": [],
   "source": [
    "import seaborn as sns\n",
    "import pandas as pd"
   ]
  },
  {
   "cell_type": "code",
   "execution_count": null,
   "id": "b99c7c54",
   "metadata": {},
   "outputs": [],
   "source": [
    "# From sk.learn library we are loading the iris dataset and imporing it"
   ]
  },
  {
   "cell_type": "code",
   "execution_count": 6,
   "id": "67bafe87",
   "metadata": {},
   "outputs": [],
   "source": [
    "from sklearn.datasets import load_iris"
   ]
  },
  {
   "cell_type": "code",
   "execution_count": 10,
   "id": "b25e0cdc",
   "metadata": {},
   "outputs": [],
   "source": [
    "# We are creating an object for the iris data and turing it into a dataframe using .data, and specifying the column names with \n",
    "# .feature_names"
   ]
  },
  {
   "cell_type": "code",
   "execution_count": 9,
   "id": "ab0fb27d",
   "metadata": {},
   "outputs": [
    {
     "name": "stdout",
     "output_type": "stream",
     "text": [
      "     sepal length (cm)  sepal width (cm)  petal length (cm)  petal width (cm)\n",
      "0                  5.1               3.5                1.4               0.2\n",
      "1                  4.9               3.0                1.4               0.2\n",
      "2                  4.7               3.2                1.3               0.2\n",
      "3                  4.6               3.1                1.5               0.2\n",
      "4                  5.0               3.6                1.4               0.2\n",
      "..                 ...               ...                ...               ...\n",
      "145                6.7               3.0                5.2               2.3\n",
      "146                6.3               2.5                5.0               1.9\n",
      "147                6.5               3.0                5.2               2.0\n",
      "148                6.2               3.4                5.4               2.3\n",
      "149                5.9               3.0                5.1               1.8\n",
      "\n",
      "[150 rows x 4 columns]\n"
     ]
    }
   ],
   "source": [
    "iris_data=load_iris()\n",
    "df=pd.DataFrame(iris_data.data,columns=iris_data.feature_names)\n",
    "print(df)"
   ]
  },
  {
   "cell_type": "code",
   "execution_count": 11,
   "id": "25bc705a",
   "metadata": {},
   "outputs": [
    {
     "data": {
      "text/html": [
       "<div>\n",
       "<style scoped>\n",
       "    .dataframe tbody tr th:only-of-type {\n",
       "        vertical-align: middle;\n",
       "    }\n",
       "\n",
       "    .dataframe tbody tr th {\n",
       "        vertical-align: top;\n",
       "    }\n",
       "\n",
       "    .dataframe thead th {\n",
       "        text-align: right;\n",
       "    }\n",
       "</style>\n",
       "<table border=\"1\" class=\"dataframe\">\n",
       "  <thead>\n",
       "    <tr style=\"text-align: right;\">\n",
       "      <th></th>\n",
       "      <th>sepal length (cm)</th>\n",
       "      <th>sepal width (cm)</th>\n",
       "      <th>petal length (cm)</th>\n",
       "      <th>petal width (cm)</th>\n",
       "    </tr>\n",
       "  </thead>\n",
       "  <tbody>\n",
       "    <tr>\n",
       "      <th>count</th>\n",
       "      <td>150.000000</td>\n",
       "      <td>150.000000</td>\n",
       "      <td>150.000000</td>\n",
       "      <td>150.000000</td>\n",
       "    </tr>\n",
       "    <tr>\n",
       "      <th>mean</th>\n",
       "      <td>5.843333</td>\n",
       "      <td>3.057333</td>\n",
       "      <td>3.758000</td>\n",
       "      <td>1.199333</td>\n",
       "    </tr>\n",
       "    <tr>\n",
       "      <th>std</th>\n",
       "      <td>0.828066</td>\n",
       "      <td>0.435866</td>\n",
       "      <td>1.765298</td>\n",
       "      <td>0.762238</td>\n",
       "    </tr>\n",
       "    <tr>\n",
       "      <th>min</th>\n",
       "      <td>4.300000</td>\n",
       "      <td>2.000000</td>\n",
       "      <td>1.000000</td>\n",
       "      <td>0.100000</td>\n",
       "    </tr>\n",
       "    <tr>\n",
       "      <th>25%</th>\n",
       "      <td>5.100000</td>\n",
       "      <td>2.800000</td>\n",
       "      <td>1.600000</td>\n",
       "      <td>0.300000</td>\n",
       "    </tr>\n",
       "    <tr>\n",
       "      <th>50%</th>\n",
       "      <td>5.800000</td>\n",
       "      <td>3.000000</td>\n",
       "      <td>4.350000</td>\n",
       "      <td>1.300000</td>\n",
       "    </tr>\n",
       "    <tr>\n",
       "      <th>75%</th>\n",
       "      <td>6.400000</td>\n",
       "      <td>3.300000</td>\n",
       "      <td>5.100000</td>\n",
       "      <td>1.800000</td>\n",
       "    </tr>\n",
       "    <tr>\n",
       "      <th>max</th>\n",
       "      <td>7.900000</td>\n",
       "      <td>4.400000</td>\n",
       "      <td>6.900000</td>\n",
       "      <td>2.500000</td>\n",
       "    </tr>\n",
       "  </tbody>\n",
       "</table>\n",
       "</div>"
      ],
      "text/plain": [
       "       sepal length (cm)  sepal width (cm)  petal length (cm)  \\\n",
       "count         150.000000        150.000000         150.000000   \n",
       "mean            5.843333          3.057333           3.758000   \n",
       "std             0.828066          0.435866           1.765298   \n",
       "min             4.300000          2.000000           1.000000   \n",
       "25%             5.100000          2.800000           1.600000   \n",
       "50%             5.800000          3.000000           4.350000   \n",
       "75%             6.400000          3.300000           5.100000   \n",
       "max             7.900000          4.400000           6.900000   \n",
       "\n",
       "       petal width (cm)  \n",
       "count        150.000000  \n",
       "mean           1.199333  \n",
       "std            0.762238  \n",
       "min            0.100000  \n",
       "25%            0.300000  \n",
       "50%            1.300000  \n",
       "75%            1.800000  \n",
       "max            2.500000  "
      ]
     },
     "execution_count": 11,
     "metadata": {},
     "output_type": "execute_result"
    }
   ],
   "source": [
    "df.describe()"
   ]
  },
  {
   "cell_type": "markdown",
   "id": "19a2f903",
   "metadata": {},
   "source": [
    "# Using pandas\n"
   ]
  },
  {
   "cell_type": "raw",
   "id": "75bef3ea",
   "metadata": {},
   "source": [
    "The first option is to use pandas DataFrames’ method sample():\n",
    "Return a random sample of items from an axis of object. You can use random_state for\n",
    "reproducibility\n",
    "We initially create the training set by taking a sample with a fraction of 0.8 from the overall rows\n",
    "in the pandas DataFrame.\n",
    "Note that we also define random_state which corresponds to the seed, so that results are\n",
    "reproducible.\n",
    "Subsequently, we create the testing set by simply dropping the corresponding indices from the\n",
    "original DataFrame which are now included in the training set.x"
   ]
  },
  {
   "cell_type": "code",
   "execution_count": 15,
   "id": "6069f185",
   "metadata": {},
   "outputs": [
    {
     "data": {
      "text/plain": [
       "Int64Index([ 28,  72,  70,  85, 128,  65, 127,  42,  81,  93,\n",
       "            ...\n",
       "              5,   2,  38, 112, 107, 104, 101,  30,  98, 141],\n",
       "           dtype='int64', length=120)"
      ]
     },
     "execution_count": 15,
     "metadata": {},
     "output_type": "execute_result"
    }
   ],
   "source": [
    "training_data.index"
   ]
  },
  {
   "cell_type": "code",
   "execution_count": 16,
   "id": "525d42d3",
   "metadata": {},
   "outputs": [],
   "source": [
    "training_data=df.sample(frac=0.8,random_state=25)\n",
    "testing_data=df.drop(training_data.index)"
   ]
  },
  {
   "cell_type": "code",
   "execution_count": 20,
   "id": "29e7c2dc",
   "metadata": {},
   "outputs": [
    {
     "data": {
      "text/plain": [
       "(120, 4)"
      ]
     },
     "execution_count": 20,
     "metadata": {},
     "output_type": "execute_result"
    }
   ],
   "source": [
    "training_data.shape"
   ]
  },
  {
   "cell_type": "code",
   "execution_count": 19,
   "id": "3fc68c77",
   "metadata": {},
   "outputs": [
    {
     "data": {
      "text/plain": [
       "(30, 4)"
      ]
     },
     "execution_count": 19,
     "metadata": {},
     "output_type": "execute_result"
    }
   ],
   "source": [
    "testing_data.shape"
   ]
  },
  {
   "cell_type": "markdown",
   "id": "9c3075f1",
   "metadata": {},
   "source": [
    "# Using scikit-learn\n"
   ]
  },
  {
   "cell_type": "raw",
   "id": "9d998bbd",
   "metadata": {},
   "source": [
    "The second option — and probably the most commonly used — is the use of sklearn ‘s method\n",
    "called train_test_split():\n",
    "Split arrays or matrices into random train and test subsets\n",
    "We can create both the training and testings sets in a one-liner by passing to train_test_split()\n",
    "the modelling DataFrame along with the fraction of the examples that should be included in the\n",
    "testing set.\n",
    "As before, we also set a random_state so that the results are reproducible, that is every time we\n",
    "run the code, the same instances will be included in the training and testing sets respectively.\n",
    "The method returns a tuple with two DataFrames containing the training and testing examples"
   ]
  },
  {
   "cell_type": "code",
   "execution_count": null,
   "id": "956d42f7",
   "metadata": {},
   "outputs": [],
   "source": [
    "# From sklearn library we are making use of method - model_selection and import the function train_test_split"
   ]
  },
  {
   "cell_type": "code",
   "execution_count": 21,
   "id": "136405fe",
   "metadata": {},
   "outputs": [],
   "source": [
    "from sklearn.model_selection import train_test_split"
   ]
  },
  {
   "cell_type": "code",
   "execution_count": null,
   "id": "3a360fad",
   "metadata": {},
   "outputs": [],
   "source": [
    "# test_size is the percentahe of the instances that should be involved in the test set the default will be 25% \n",
    "# random_state is the randomness in the training set "
   ]
  },
  {
   "cell_type": "code",
   "execution_count": 27,
   "id": "869556df",
   "metadata": {},
   "outputs": [],
   "source": [
    "training_data,testing_data= train_test_split(df,test_size=0.2,random_state=25)"
   ]
  },
  {
   "cell_type": "code",
   "execution_count": 28,
   "id": "c5a13dbf",
   "metadata": {},
   "outputs": [
    {
     "name": "stdout",
     "output_type": "stream",
     "text": [
      "No. of training examples: 120\n",
      "No. of testing examples: 30\n"
     ]
    }
   ],
   "source": [
    "print(f\"No. of training examples: {training_data.shape[0]}\")\n",
    "print(f\"No. of testing examples: {testing_data.shape[0]}\")\n"
   ]
  },
  {
   "cell_type": "code",
   "execution_count": null,
   "id": "36daf8f6",
   "metadata": {},
   "outputs": [],
   "source": []
  },
  {
   "cell_type": "code",
   "execution_count": null,
   "id": "3f13d1b5",
   "metadata": {},
   "outputs": [],
   "source": []
  },
  {
   "cell_type": "code",
   "execution_count": null,
   "id": "fec0144f",
   "metadata": {},
   "outputs": [],
   "source": []
  }
 ],
 "metadata": {
  "kernelspec": {
   "display_name": "Python 3",
   "language": "python",
   "name": "python3"
  },
  "language_info": {
   "codemirror_mode": {
    "name": "ipython",
    "version": 3
   },
   "file_extension": ".py",
   "mimetype": "text/x-python",
   "name": "python",
   "nbconvert_exporter": "python",
   "pygments_lexer": "ipython3",
   "version": "3.8.8"
  }
 },
 "nbformat": 4,
 "nbformat_minor": 5
}
