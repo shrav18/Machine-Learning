{
 "cells": [
  {
   "cell_type": "markdown",
   "id": "0b2b8c3d",
   "metadata": {},
   "source": [
    "As other supervised learning algorithms, naive bayes uses features to make a prediction on a target variable. The key difference is that naive bayes assumes that features are independent of each other and there is no correlation between features. However, this is not the case in real life. This naive assumption of features being uncorrelated is the reason why this algorithm is called “naive”."
   ]
  },
  {
   "cell_type": "markdown",
   "id": "c1438604",
   "metadata": {},
   "source": [
    "Outline:\n",
    "\n",
    "Probability and conditional probability\n",
    "\n",
    "Bayes’ Theorem\n",
    "\n",
    "Naive Bayes classifier\n",
    "\n",
    "Pros and cons of naive Bayes classifier\n",
    "\n",
    "Scikit-learn implementation"
   ]
  },
  {
   "cell_type": "markdown",
   "id": "946ad6b4",
   "metadata": {},
   "source": [
    "# Probability and conditional probability"
   ]
  },
  {
   "cell_type": "markdown",
   "id": "e1472d69",
   "metadata": {},
   "source": [
    "We’ve learned where the “naive” comes from. How about the “bayes”? Bayes comes from the famous Bayes’ Theorem of Thomas Bayes. To get a comprehensive understanding of Bayes’ Theorem, we should talk about probability and conditional probability first."
   ]
  },
  {
   "attachments": {
    "bayes.png": {
     "image/png": "[encoded data removed]"
    }
   },
   "cell_type": "markdown",
   "id": "63a40344",
   "metadata": {},
   "source": [
    "![bayes.png](attachment:bayes.png)"
   ]
  },
  {
   "cell_type": "markdown",
   "id": "32635dcf",
   "metadata": {},
   "source": [
    "Probability simply means the likelihood of an event to occur and always takes a value between 0 and 1 (0 and 1 inclusive). \n",
    "\n",
    "The probability of event A is denoted as p(A) and calculated as the number of the desired outcome divided by the number of all outcomes.\n",
    "\n",
    "For example, when you roll a die, the probability of getting a number less than three is 2 / 6. The number of desired outcomes is 2 (1 and 2); the number of total outcomes is 6."
   ]
  },
  {
   "cell_type": "markdown",
   "id": "19272a1b",
   "metadata": {},
   "source": [
    "Conditional probability is the likelihood of an event A to occur given that another event that has a relation with event A has already occurred. \n",
    "\n",
    "Suppose that we have 6 blue balls and 4 yellows placed in two boxes as seen below. \n",
    "\n",
    "I ask you to randomly pick a ball. \n",
    "\n",
    "The probability of getting a blue ball is 6 / 10 = 0,6.\n",
    "\n",
    "What if I ask you to pick a ball from box A? The probability of picking a blue ball clearly decreases. \n",
    "\n",
    "The condition here is to pick from box A which clearly changes the probability of the event (picking a blue ball). \n",
    "\n",
    "The probability of event A given that event B has occurred is denoted as p(A|B)."
   ]
  },
  {
   "attachments": {
    "conditional_prob.png": {
     "image/png": "[encoded data removed]"
    }
   },
   "cell_type": "markdown",
   "id": "5f85f39d",
   "metadata": {},
   "source": [
    "![conditional_prob.png](attachment:conditional_prob.png)"
   ]
  },
  {
   "cell_type": "markdown",
   "id": "b49347cc",
   "metadata": {},
   "source": [
    "There is one more concept to learn before introducing Bayes’ Theorem. A joint probability is the probability of two events occurring together and denoted as p(A and B). For independent events, joint probability can be written as:\n",
    "\n",
    "p(A and B) = p(A).p(B) ……… (1)\n",
    "\n",
    "Let’s say I roll a die and flip a coin. The probability of getting 1 and heads is:\n",
    "\n",
    "(1 / 6).(1/2) = 1/12 = 0.08"
   ]
  },
  {
   "cell_type": "markdown",
   "id": "ca80a6e5",
   "metadata": {},
   "source": [
    "For this calculation to be correct, events must be independent.\n",
    "\n",
    "The outcome of flipping a coin does not have any effect on the outcome of rolling a die so these events are independent\n",
    "\n",
    "Let’s also give an example of dependent events - \n",
    "\n",
    "Picking one card from a deck and picked a second card from the same deck. \n",
    "The probability of a particular observation in the second pick certainly effected by the first pick\n",
    "\n",
    "In the case of dependent events, equation 1 is not valid. It should be slightly changed to hold for any two events:\n",
    "\n",
    "p(A and B) = p(A).p(B|A) ……… (2)"
   ]
  },
  {
   "cell_type": "markdown",
   "id": "928b61c0",
   "metadata": {},
   "source": [
    "Equation (1) is a special case of equation (2) for independent events because if event B and event A independent, p(B|A) = p(B)."
   ]
  },
  {
   "cell_type": "markdown",
   "id": "694a9cd8",
   "metadata": {},
   "source": [
    "# Bayes’ Theorem"
   ]
  },
  {
   "cell_type": "markdown",
   "id": "29857886",
   "metadata": {},
   "source": [
    "We will start with the fact that joint probability is commutative for any two events. That is:\n",
    "\n",
    "p(A and B) = p(B and A) ……… (3)\n",
    "\n",
    "From equation 2, we know that:\n",
    "\n",
    "p(A and B) = p(A).p(B|A)\n",
    "\n",
    "p(B and A) = p(B).p(A|B)\n",
    "\n",
    "We can rewrite equation 3 as:\n",
    "\n",
    "p(A).p(B|A) = p(B).p(A|B)\n",
    "\n",
    "Dividing two sides by p(B) gives us the Bayes’ Theorem:\n"
   ]
  },
  {
   "attachments": {
    "bayes_theorem.png": {
     "image/png": "[encoded data removed]"
    }
   },
   "cell_type": "markdown",
   "id": "876056de",
   "metadata": {},
   "source": [
    "![bayes_theorem.png](attachment:bayes_theorem.png)"
   ]
  },
  {
   "cell_type": "markdown",
   "id": "d1d9f293",
   "metadata": {},
   "source": [
    "It’s time to see how Naive bayes classifier uses this theorem!"
   ]
  },
  {
   "cell_type": "markdown",
   "id": "ec932384",
   "metadata": {},
   "source": [
    "# Naive Bayes Classifier"
   ]
  },
  {
   "cell_type": "markdown",
   "id": "05662fbc",
   "metadata": {},
   "source": [
    "Naive bayes is a supervised learning algorithm for classification so the task is to find the class of observation (data point) given the values of features\n",
    "\n",
    "Naive bayes classifier calculates the probability of a class given a set of feature values (i.e. p(yi | x1, x2 , … , xn))\n",
    "\n",
    "Input this into Bayes’ theorem:"
   ]
  },
  {
   "attachments": {
    "prob1.png": {
     "image/png": "[encoded data removed]"
    }
   },
   "cell_type": "markdown",
   "id": "91feaf3b",
   "metadata": {},
   "source": [
    "![prob1.png](attachment:prob1.png)"
   ]
  },
  {
   "cell_type": "markdown",
   "id": "a091cd68",
   "metadata": {},
   "source": [
    "p(x1, x2 , … , xn | yi) means the probability of a specific combination of features given a class label. \n",
    "\n",
    "To be able to calculate this, we need extremely large datasets to have an estimate on the probability distribution for all different combinations of feature values. \n",
    "\n",
    "To overcome this issue, naive bayes algorithm assumes that all features are independent of each other. \n",
    "\n",
    "Furthermore, denominator (p(x1,x2, … , xn)) can be removed to simplify the equation because it only normalizes the value of conditional probability of a class given an observation ( p(yi | x1,x2, … , xn))"
   ]
  },
  {
   "cell_type": "markdown",
   "id": "4fe32fc0",
   "metadata": {},
   "source": [
    "The probability of a class ( p(yi) ) is very simple to calculate:"
   ]
  },
  {
   "attachments": {
    "prob2.png": {
     "image/png": "[encoded data removed]"
    }
   },
   "cell_type": "markdown",
   "id": "990e9fb3",
   "metadata": {},
   "source": [
    "![prob2.png](attachment:prob2.png)"
   ]
  },
  {
   "cell_type": "markdown",
   "id": "1c32373a",
   "metadata": {},
   "source": [
    "Under the assumption of features being independent, p(x1, x2 , … , xn | yi) can be written as:"
   ]
  },
  {
   "attachments": {
    "prob3.png": {
     "image/png": "[encoded data removed]"
    }
   },
   "cell_type": "markdown",
   "id": "093bc346",
   "metadata": {},
   "source": [
    "![prob3.png](attachment:prob3.png)"
   ]
  },
  {
   "cell_type": "markdown",
   "id": "6ab424c2",
   "metadata": {},
   "source": [
    "The conditional probability for a single feature given the class label (i.e. p(x1 | yi) ) can be more easily estimated from the data. \n",
    "\n",
    "The algorithm needs to store probability distributions of features for each class independently. For example, if there are 5 classes and 10 features, 50 different probability distributions need to be stored. \n",
    "\n",
    "The type of distributions depend on the characteristics of features:"
   ]
  },
  {
   "cell_type": "markdown",
   "id": "676afc77",
   "metadata": {},
   "source": [
    "For binary features (Y/N, True/False, 0/1): Bernoulli distribution\n",
    "    \n",
    "For discrete features (i.e. word counts): Multinomial distribution\n",
    "\n",
    "For continuous features: Gaussian (Normal) distribution"
   ]
  },
  {
   "cell_type": "markdown",
   "id": "6f9b9da0",
   "metadata": {},
   "source": [
    "It is common to name the naive bayes with the distribution of features (i.e. Gaussian naive bayes classifier). For mixed type datasets, a different type of distribution may be required for different features."
   ]
  },
  {
   "cell_type": "markdown",
   "id": "9a81daef",
   "metadata": {},
   "source": [
    "Adding all these up, it became an easy task for naive bayes algorithm to calculate the probability to observe a class given values of features (p(yi | x1, x2 , … , xn) )"
   ]
  },
  {
   "cell_type": "markdown",
   "id": "5e01b701",
   "metadata": {},
   "source": [
    "# Pros and Cons of Naive Bayes Algorithm"
   ]
  },
  {
   "cell_type": "markdown",
   "id": "0b2c6658",
   "metadata": {},
   "source": [
    "Pros:\n",
    "\n",
    "The assumption that all features are independent makes naive bayes algorithm very fast compared to complicated algorithms. In some cases, speed is preferred over higher accuracy.\n",
    "\n",
    "It works well with high-dimensional data such as text classification, email spam detection."
   ]
  },
  {
   "cell_type": "markdown",
   "id": "0a2ac398",
   "metadata": {},
   "source": [
    "Cons:\n",
    "\n",
    "The assumption that all features are independent is not usually the case in real life so it makes naive bayes algorithm less accurate than complicated algorithms."
   ]
  },
  {
   "cell_type": "markdown",
   "id": "d7bcb73b",
   "metadata": {},
   "source": [
    "# Scikit-learn Implementation"
   ]
  },
  {
   "cell_type": "code",
   "execution_count": 15,
   "id": "1736577f",
   "metadata": {},
   "outputs": [],
   "source": [
    "#Importing libraries\n",
    "\n",
    "import numpy as np\n",
    "import pandas as pd\n",
    "\n",
    "from sklearn.model_selection import train_test_split\n",
    "from sklearn.datasets import load_breast_cancer\n",
    "from sklearn.naive_bayes import GaussianNB\n"
   ]
  },
  {
   "cell_type": "code",
   "execution_count": 16,
   "id": "ee437686",
   "metadata": {},
   "outputs": [],
   "source": [
    "#Using the Breast Cancer Dataset to perform Naive Bayes classification\n",
    "\n",
    "df = load_breast_cancer()\n",
    "(X, y) = load_breast_cancer(return_X_y=True)\n"
   ]
  },
  {
   "cell_type": "code",
   "execution_count": 17,
   "id": "96faae3a",
   "metadata": {},
   "outputs": [],
   "source": [
    "df=pd.DataFrame(df.data,columns=df.feature_names)"
   ]
  },
  {
   "cell_type": "code",
   "execution_count": 18,
   "id": "abfc8376",
   "metadata": {},
   "outputs": [
    {
     "data": {
      "text/html": [
       "<div>\n",
       "<style scoped>\n",
       "    .dataframe tbody tr th:only-of-type {\n",
       "        vertical-align: middle;\n",
       "    }\n",
       "\n",
       "    .dataframe tbody tr th {\n",
       "        vertical-align: top;\n",
       "    }\n",
       "\n",
       "    .dataframe thead th {\n",
       "        text-align: right;\n",
       "    }\n",
       "</style>\n",
       "<table border=\"1\" class=\"dataframe\">\n",
       "  <thead>\n",
       "    <tr style=\"text-align: right;\">\n",
       "      <th></th>\n",
       "      <th>mean radius</th>\n",
       "      <th>mean texture</th>\n",
       "      <th>mean perimeter</th>\n",
       "      <th>mean area</th>\n",
       "      <th>mean smoothness</th>\n",
       "      <th>mean compactness</th>\n",
       "      <th>mean concavity</th>\n",
       "      <th>mean concave points</th>\n",
       "      <th>mean symmetry</th>\n",
       "      <th>mean fractal dimension</th>\n",
       "      <th>...</th>\n",
       "      <th>worst radius</th>\n",
       "      <th>worst texture</th>\n",
       "      <th>worst perimeter</th>\n",
       "      <th>worst area</th>\n",
       "      <th>worst smoothness</th>\n",
       "      <th>worst compactness</th>\n",
       "      <th>worst concavity</th>\n",
       "      <th>worst concave points</th>\n",
       "      <th>worst symmetry</th>\n",
       "      <th>worst fractal dimension</th>\n",
       "    </tr>\n",
       "  </thead>\n",
       "  <tbody>\n",
       "    <tr>\n",
       "      <th>0</th>\n",
       "      <td>17.99</td>\n",
       "      <td>10.38</td>\n",
       "      <td>122.80</td>\n",
       "      <td>1001.0</td>\n",
       "      <td>0.11840</td>\n",
       "      <td>0.27760</td>\n",
       "      <td>0.30010</td>\n",
       "      <td>0.14710</td>\n",
       "      <td>0.2419</td>\n",
       "      <td>0.07871</td>\n",
       "      <td>...</td>\n",
       "      <td>25.380</td>\n",
       "      <td>17.33</td>\n",
       "      <td>184.60</td>\n",
       "      <td>2019.0</td>\n",
       "      <td>0.16220</td>\n",
       "      <td>0.66560</td>\n",
       "      <td>0.7119</td>\n",
       "      <td>0.2654</td>\n",
       "      <td>0.4601</td>\n",
       "      <td>0.11890</td>\n",
       "    </tr>\n",
       "    <tr>\n",
       "      <th>1</th>\n",
       "      <td>20.57</td>\n",
       "      <td>17.77</td>\n",
       "      <td>132.90</td>\n",
       "      <td>1326.0</td>\n",
       "      <td>0.08474</td>\n",
       "      <td>0.07864</td>\n",
       "      <td>0.08690</td>\n",
       "      <td>0.07017</td>\n",
       "      <td>0.1812</td>\n",
       "      <td>0.05667</td>\n",
       "      <td>...</td>\n",
       "      <td>24.990</td>\n",
       "      <td>23.41</td>\n",
       "      <td>158.80</td>\n",
       "      <td>1956.0</td>\n",
       "      <td>0.12380</td>\n",
       "      <td>0.18660</td>\n",
       "      <td>0.2416</td>\n",
       "      <td>0.1860</td>\n",
       "      <td>0.2750</td>\n",
       "      <td>0.08902</td>\n",
       "    </tr>\n",
       "    <tr>\n",
       "      <th>2</th>\n",
       "      <td>19.69</td>\n",
       "      <td>21.25</td>\n",
       "      <td>130.00</td>\n",
       "      <td>1203.0</td>\n",
       "      <td>0.10960</td>\n",
       "      <td>0.15990</td>\n",
       "      <td>0.19740</td>\n",
       "      <td>0.12790</td>\n",
       "      <td>0.2069</td>\n",
       "      <td>0.05999</td>\n",
       "      <td>...</td>\n",
       "      <td>23.570</td>\n",
       "      <td>25.53</td>\n",
       "      <td>152.50</td>\n",
       "      <td>1709.0</td>\n",
       "      <td>0.14440</td>\n",
       "      <td>0.42450</td>\n",
       "      <td>0.4504</td>\n",
       "      <td>0.2430</td>\n",
       "      <td>0.3613</td>\n",
       "      <td>0.08758</td>\n",
       "    </tr>\n",
       "    <tr>\n",
       "      <th>3</th>\n",
       "      <td>11.42</td>\n",
       "      <td>20.38</td>\n",
       "      <td>77.58</td>\n",
       "      <td>386.1</td>\n",
       "      <td>0.14250</td>\n",
       "      <td>0.28390</td>\n",
       "      <td>0.24140</td>\n",
       "      <td>0.10520</td>\n",
       "      <td>0.2597</td>\n",
       "      <td>0.09744</td>\n",
       "      <td>...</td>\n",
       "      <td>14.910</td>\n",
       "      <td>26.50</td>\n",
       "      <td>98.87</td>\n",
       "      <td>567.7</td>\n",
       "      <td>0.20980</td>\n",
       "      <td>0.86630</td>\n",
       "      <td>0.6869</td>\n",
       "      <td>0.2575</td>\n",
       "      <td>0.6638</td>\n",
       "      <td>0.17300</td>\n",
       "    </tr>\n",
       "    <tr>\n",
       "      <th>4</th>\n",
       "      <td>20.29</td>\n",
       "      <td>14.34</td>\n",
       "      <td>135.10</td>\n",
       "      <td>1297.0</td>\n",
       "      <td>0.10030</td>\n",
       "      <td>0.13280</td>\n",
       "      <td>0.19800</td>\n",
       "      <td>0.10430</td>\n",
       "      <td>0.1809</td>\n",
       "      <td>0.05883</td>\n",
       "      <td>...</td>\n",
       "      <td>22.540</td>\n",
       "      <td>16.67</td>\n",
       "      <td>152.20</td>\n",
       "      <td>1575.0</td>\n",
       "      <td>0.13740</td>\n",
       "      <td>0.20500</td>\n",
       "      <td>0.4000</td>\n",
       "      <td>0.1625</td>\n",
       "      <td>0.2364</td>\n",
       "      <td>0.07678</td>\n",
       "    </tr>\n",
       "    <tr>\n",
       "      <th>...</th>\n",
       "      <td>...</td>\n",
       "      <td>...</td>\n",
       "      <td>...</td>\n",
       "      <td>...</td>\n",
       "      <td>...</td>\n",
       "      <td>...</td>\n",
       "      <td>...</td>\n",
       "      <td>...</td>\n",
       "      <td>...</td>\n",
       "      <td>...</td>\n",
       "      <td>...</td>\n",
       "      <td>...</td>\n",
       "      <td>...</td>\n",
       "      <td>...</td>\n",
       "      <td>...</td>\n",
       "      <td>...</td>\n",
       "      <td>...</td>\n",
       "      <td>...</td>\n",
       "      <td>...</td>\n",
       "      <td>...</td>\n",
       "      <td>...</td>\n",
       "    </tr>\n",
       "    <tr>\n",
       "      <th>564</th>\n",
       "      <td>21.56</td>\n",
       "      <td>22.39</td>\n",
       "      <td>142.00</td>\n",
       "      <td>1479.0</td>\n",
       "      <td>0.11100</td>\n",
       "      <td>0.11590</td>\n",
       "      <td>0.24390</td>\n",
       "      <td>0.13890</td>\n",
       "      <td>0.1726</td>\n",
       "      <td>0.05623</td>\n",
       "      <td>...</td>\n",
       "      <td>25.450</td>\n",
       "      <td>26.40</td>\n",
       "      <td>166.10</td>\n",
       "      <td>2027.0</td>\n",
       "      <td>0.14100</td>\n",
       "      <td>0.21130</td>\n",
       "      <td>0.4107</td>\n",
       "      <td>0.2216</td>\n",
       "      <td>0.2060</td>\n",
       "      <td>0.07115</td>\n",
       "    </tr>\n",
       "    <tr>\n",
       "      <th>565</th>\n",
       "      <td>20.13</td>\n",
       "      <td>28.25</td>\n",
       "      <td>131.20</td>\n",
       "      <td>1261.0</td>\n",
       "      <td>0.09780</td>\n",
       "      <td>0.10340</td>\n",
       "      <td>0.14400</td>\n",
       "      <td>0.09791</td>\n",
       "      <td>0.1752</td>\n",
       "      <td>0.05533</td>\n",
       "      <td>...</td>\n",
       "      <td>23.690</td>\n",
       "      <td>38.25</td>\n",
       "      <td>155.00</td>\n",
       "      <td>1731.0</td>\n",
       "      <td>0.11660</td>\n",
       "      <td>0.19220</td>\n",
       "      <td>0.3215</td>\n",
       "      <td>0.1628</td>\n",
       "      <td>0.2572</td>\n",
       "      <td>0.06637</td>\n",
       "    </tr>\n",
       "    <tr>\n",
       "      <th>566</th>\n",
       "      <td>16.60</td>\n",
       "      <td>28.08</td>\n",
       "      <td>108.30</td>\n",
       "      <td>858.1</td>\n",
       "      <td>0.08455</td>\n",
       "      <td>0.10230</td>\n",
       "      <td>0.09251</td>\n",
       "      <td>0.05302</td>\n",
       "      <td>0.1590</td>\n",
       "      <td>0.05648</td>\n",
       "      <td>...</td>\n",
       "      <td>18.980</td>\n",
       "      <td>34.12</td>\n",
       "      <td>126.70</td>\n",
       "      <td>1124.0</td>\n",
       "      <td>0.11390</td>\n",
       "      <td>0.30940</td>\n",
       "      <td>0.3403</td>\n",
       "      <td>0.1418</td>\n",
       "      <td>0.2218</td>\n",
       "      <td>0.07820</td>\n",
       "    </tr>\n",
       "    <tr>\n",
       "      <th>567</th>\n",
       "      <td>20.60</td>\n",
       "      <td>29.33</td>\n",
       "      <td>140.10</td>\n",
       "      <td>1265.0</td>\n",
       "      <td>0.11780</td>\n",
       "      <td>0.27700</td>\n",
       "      <td>0.35140</td>\n",
       "      <td>0.15200</td>\n",
       "      <td>0.2397</td>\n",
       "      <td>0.07016</td>\n",
       "      <td>...</td>\n",
       "      <td>25.740</td>\n",
       "      <td>39.42</td>\n",
       "      <td>184.60</td>\n",
       "      <td>1821.0</td>\n",
       "      <td>0.16500</td>\n",
       "      <td>0.86810</td>\n",
       "      <td>0.9387</td>\n",
       "      <td>0.2650</td>\n",
       "      <td>0.4087</td>\n",
       "      <td>0.12400</td>\n",
       "    </tr>\n",
       "    <tr>\n",
       "      <th>568</th>\n",
       "      <td>7.76</td>\n",
       "      <td>24.54</td>\n",
       "      <td>47.92</td>\n",
       "      <td>181.0</td>\n",
       "      <td>0.05263</td>\n",
       "      <td>0.04362</td>\n",
       "      <td>0.00000</td>\n",
       "      <td>0.00000</td>\n",
       "      <td>0.1587</td>\n",
       "      <td>0.05884</td>\n",
       "      <td>...</td>\n",
       "      <td>9.456</td>\n",
       "      <td>30.37</td>\n",
       "      <td>59.16</td>\n",
       "      <td>268.6</td>\n",
       "      <td>0.08996</td>\n",
       "      <td>0.06444</td>\n",
       "      <td>0.0000</td>\n",
       "      <td>0.0000</td>\n",
       "      <td>0.2871</td>\n",
       "      <td>0.07039</td>\n",
       "    </tr>\n",
       "  </tbody>\n",
       "</table>\n",
       "<p>569 rows × 30 columns</p>\n",
       "</div>"
      ],
      "text/plain": [
       "     mean radius  mean texture  mean perimeter  mean area  mean smoothness  \\\n",
       "0          17.99         10.38          122.80     1001.0          0.11840   \n",
       "1          20.57         17.77          132.90     1326.0          0.08474   \n",
       "2          19.69         21.25          130.00     1203.0          0.10960   \n",
       "3          11.42         20.38           77.58      386.1          0.14250   \n",
       "4          20.29         14.34          135.10     1297.0          0.10030   \n",
       "..           ...           ...             ...        ...              ...   \n",
       "564        21.56         22.39          142.00     1479.0          0.11100   \n",
       "565        20.13         28.25          131.20     1261.0          0.09780   \n",
       "566        16.60         28.08          108.30      858.1          0.08455   \n",
       "567        20.60         29.33          140.10     1265.0          0.11780   \n",
       "568         7.76         24.54           47.92      181.0          0.05263   \n",
       "\n",
       "     mean compactness  mean concavity  mean concave points  mean symmetry  \\\n",
       "0             0.27760         0.30010              0.14710         0.2419   \n",
       "1             0.07864         0.08690              0.07017         0.1812   \n",
       "2             0.15990         0.19740              0.12790         0.2069   \n",
       "3             0.28390         0.24140              0.10520         0.2597   \n",
       "4             0.13280         0.19800              0.10430         0.1809   \n",
       "..                ...             ...                  ...            ...   \n",
       "564           0.11590         0.24390              0.13890         0.1726   \n",
       "565           0.10340         0.14400              0.09791         0.1752   \n",
       "566           0.10230         0.09251              0.05302         0.1590   \n",
       "567           0.27700         0.35140              0.15200         0.2397   \n",
       "568           0.04362         0.00000              0.00000         0.1587   \n",
       "\n",
       "     mean fractal dimension  ...  worst radius  worst texture  \\\n",
       "0                   0.07871  ...        25.380          17.33   \n",
       "1                   0.05667  ...        24.990          23.41   \n",
       "2                   0.05999  ...        23.570          25.53   \n",
       "3                   0.09744  ...        14.910          26.50   \n",
       "4                   0.05883  ...        22.540          16.67   \n",
       "..                      ...  ...           ...            ...   \n",
       "564                 0.05623  ...        25.450          26.40   \n",
       "565                 0.05533  ...        23.690          38.25   \n",
       "566                 0.05648  ...        18.980          34.12   \n",
       "567                 0.07016  ...        25.740          39.42   \n",
       "568                 0.05884  ...         9.456          30.37   \n",
       "\n",
       "     worst perimeter  worst area  worst smoothness  worst compactness  \\\n",
       "0             184.60      2019.0           0.16220            0.66560   \n",
       "1             158.80      1956.0           0.12380            0.18660   \n",
       "2             152.50      1709.0           0.14440            0.42450   \n",
       "3              98.87       567.7           0.20980            0.86630   \n",
       "4             152.20      1575.0           0.13740            0.20500   \n",
       "..               ...         ...               ...                ...   \n",
       "564           166.10      2027.0           0.14100            0.21130   \n",
       "565           155.00      1731.0           0.11660            0.19220   \n",
       "566           126.70      1124.0           0.11390            0.30940   \n",
       "567           184.60      1821.0           0.16500            0.86810   \n",
       "568            59.16       268.6           0.08996            0.06444   \n",
       "\n",
       "     worst concavity  worst concave points  worst symmetry  \\\n",
       "0             0.7119                0.2654          0.4601   \n",
       "1             0.2416                0.1860          0.2750   \n",
       "2             0.4504                0.2430          0.3613   \n",
       "3             0.6869                0.2575          0.6638   \n",
       "4             0.4000                0.1625          0.2364   \n",
       "..               ...                   ...             ...   \n",
       "564           0.4107                0.2216          0.2060   \n",
       "565           0.3215                0.1628          0.2572   \n",
       "566           0.3403                0.1418          0.2218   \n",
       "567           0.9387                0.2650          0.4087   \n",
       "568           0.0000                0.0000          0.2871   \n",
       "\n",
       "     worst fractal dimension  \n",
       "0                    0.11890  \n",
       "1                    0.08902  \n",
       "2                    0.08758  \n",
       "3                    0.17300  \n",
       "4                    0.07678  \n",
       "..                       ...  \n",
       "564                  0.07115  \n",
       "565                  0.06637  \n",
       "566                  0.07820  \n",
       "567                  0.12400  \n",
       "568                  0.07039  \n",
       "\n",
       "[569 rows x 30 columns]"
      ]
     },
     "execution_count": 18,
     "metadata": {},
     "output_type": "execute_result"
    }
   ],
   "source": [
    "df"
   ]
  },
  {
   "cell_type": "code",
   "execution_count": 19,
   "id": "afd131d1",
   "metadata": {},
   "outputs": [],
   "source": [
    "X_train, X_test, y_train, y_test = train_test_split(X, y, random_state = 10)"
   ]
  },
  {
   "cell_type": "code",
   "execution_count": 20,
   "id": "7b607263",
   "metadata": {},
   "outputs": [],
   "source": [
    "#we create a gaussian naive bayes classifier object and fit train data to the classifier:\n",
    "\n",
    "clf_nb = GaussianNB().fit(X_train, y_train)"
   ]
  },
  {
   "cell_type": "markdown",
   "id": "6b917f9d",
   "metadata": {},
   "source": [
    "Finally, we measure the performance of our classifier on both train and test set."
   ]
  },
  {
   "cell_type": "code",
   "execution_count": 21,
   "id": "96f45217",
   "metadata": {},
   "outputs": [
    {
     "name": "stdout",
     "output_type": "stream",
     "text": [
      "Breast Cancer Data Set\n",
      "Accuracy of Gaussian Classifier on Training Set: 0.93\n",
      "Accuracy of Gaussian Classifier on Test Set: 0.95\n"
     ]
    }
   ],
   "source": [
    "print('Breast Cancer Data Set')\n",
    "\n",
    "print('Accuracy of Gaussian Classifier on Training Set: {:.2f}'.format(clf_nb.score(X_train, y_train)))\n",
    "\n",
    "print('Accuracy of Gaussian Classifier on Test Set: {:.2f}'.format(clf_nb.score(X_test, y_test)))"
   ]
  },
  {
   "cell_type": "markdown",
   "id": "f4068ea0",
   "metadata": {},
   "source": [
    "Accuracy is pretty high but this is a simple task used to show the concept and go through the steps of implementation. \n",
    "\n",
    "One important thing to remember is that the accuracy on the training set should not be much higher than the accuracy on the test set which indicates our model is too specific and not generalized well. \n",
    "\n",
    "This results in overfitting which is a serious problem for any machine learning algorithm"
   ]
  }
 ],
 "metadata": {
  "kernelspec": {
   "display_name": "Python 3",
   "language": "python",
   "name": "python3"
  },
  "language_info": {
   "codemirror_mode": {
    "name": "ipython",
    "version": 3
   },
   "file_extension": ".py",
   "mimetype": "text/x-python",
   "name": "python",
   "nbconvert_exporter": "python",
   "pygments_lexer": "ipython3",
   "version": "3.8.8"
  }
 },
 "nbformat": 4,
 "nbformat_minor": 5
}
